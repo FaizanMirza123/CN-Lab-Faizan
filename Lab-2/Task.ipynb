{
 "cells": [
  {
   "cell_type": "code",
   "execution_count": 10,
   "metadata": {},
   "outputs": [],
   "source": [
    "#1\n",
    "def chickens(count):\n",
    "    if(count>=10):\n",
    "        return \"Number of Chickens: Many\"\n",
    "    elif(count<10):\n",
    "        return \"Number of Chickens: \"+str(count)\n"
   ]
  },
  {
   "cell_type": "code",
   "execution_count": 21,
   "metadata": {},
   "outputs": [],
   "source": [
    "#2\n",
    "def StringStartEnd(string):\n",
    "    if(len(string)<6):\n",
    "        print(\"String size must be greater than 6 to modify\")\n",
    "    else:\n",
    "        i = 0\n",
    "        newstring = \"\"\n",
    "        for x in range(6):\n",
    "            newstring += string[i]\n",
    "            i += 1\n",
    "            if i == 3:\n",
    "                i = len(string) - 3  \n",
    "                \n",
    "        return newstring\n",
    "    \n",
    "            \n"
   ]
  },
  {
   "cell_type": "code",
   "execution_count": 43,
   "metadata": {},
   "outputs": [],
   "source": [
    "#3\n",
    "import random\n",
    "\n",
    "def replace(string):\n",
    "    value=random.randint(1,len(string)-1)\n",
    "    for x in range(value):\n",
    "            ran=random.randint(1,len(string)-1)\n",
    "            string=string.replace(string[ran],\"@\")\n",
    "    return string"
   ]
  },
  {
   "cell_type": "code",
   "execution_count": 46,
   "metadata": {},
   "outputs": [],
   "source": [
    "#4\n",
    "def stringJumble(string1,string2):\n",
    "    temp=string1\n",
    "    string1=string1.replace(string1[0],string2[0])\n",
    "    string1=string1.replace(string1[1],string2[1])\n",
    "\n",
    "    string2=string2.replace(string2[0],temp[0])\n",
    "    string2=string2.replace(string2[1],temp[1])\n",
    "\n",
    "    return string1+\", \"+string2"
   ]
  },
  {
   "cell_type": "code",
   "execution_count": 50,
   "metadata": {},
   "outputs": [],
   "source": [
    "#5\n",
    "def sameString(list):\n",
    "    count=0\n",
    "    for x in list:\n",
    "        if((x[0].lower())==(x[len(x)-1].lower())):\n",
    "            count+=1\n",
    "    return count"
   ]
  },
  {
   "cell_type": "code",
   "execution_count": null,
   "metadata": {},
   "outputs": [],
   "source": [
    "#6\n",
    "def grouplist(list):\n",
    "\n",
    "   for i in range(len(list)):\n",
    "        for j in range(i + 1, len(list)):\n",
    "            if list[i][0] > list[j][0]:\n",
    "                list[i], list[j] = list[j], list[i]\n"
   ]
  },
  {
   "cell_type": "code",
   "execution_count": null,
   "metadata": {},
   "outputs": [],
   "source": [
    "#7\n",
    "def SortTuple(tuples):\n",
    "    for x in range (len(tuples)):\n",
    "        for j in range(x+1, len(tuples)):\n",
    "           if(tuples[x][len(tuples[x])-1]>tuples[j][len(tuples[j])-1]):\n",
    "               tuples[x],tuples[j]=tuples[j], tuples[x]\n"
   ]
  },
  {
   "cell_type": "code",
   "execution_count": 85,
   "metadata": {},
   "outputs": [],
   "source": [
    "#8\n",
    "def palindrome(string):\n",
    "    s=string\n",
    "    new=\"\"\n",
    "    for i in s:\n",
    "        if i.isalnum():  \n",
    "            new += i\n",
    "\n",
    "    print(new)\n",
    "    size=len(new)\n",
    "    condition = True  \n",
    "\n",
    "\n",
    "    divider = size // 2\n",
    "    start2 = size - 1\n",
    "\n",
    "\n",
    "    for start1 in range(divider):\n",
    "        if new[start1].lower() != new[start2].lower():\n",
    "            print(\"not a palindrome\")\n",
    "            condition = False  \n",
    "            break\n",
    "        start2 -= 1\n",
    "\n",
    "\n",
    "    if condition:\n",
    "        print(\"a palindrome\")"
   ]
  },
  {
   "cell_type": "code",
   "execution_count": 108,
   "metadata": {},
   "outputs": [],
   "source": [
    "#9\n",
    "def nestedlist(list):\n",
    "    newList=[]\n",
    "    for x in range(len(list)):\n",
    "        for j in range(len(list[x])):\n",
    "            newList.append(list[x][j])\n",
    "    return newList"
   ]
  },
  {
   "cell_type": "code",
   "execution_count": 109,
   "metadata": {},
   "outputs": [
    {
     "name": "stdout",
     "output_type": "stream",
     "text": [
      "Number of Chickens: 5\n",
      "intnce\n",
      "0@@gl@\n",
      "dig, donner\n",
      "2\n",
      "['apple', 'aardvark', 'mix', 'xanadu', 'xyz']\n",
      "[(2, 2), (1, 3), (3, 4, 5), (1, 7)]\n",
      "Wow\n",
      "a palindrome\n",
      "[1, 2, 3, 4, 5]\n"
     ]
    }
   ],
   "source": [
    "print(chickens(5))\n",
    "print(StringStartEnd(\"intelligence\"))\n",
    "print(replace(\"0oogle\"))\n",
    "print(stringJumble(\"dog\",\"dinner\"))\n",
    "print(sameString(['Wow','yay','Nah']))\n",
    "list=['mix', 'xyz', 'apple', 'xanadu', 'aardvark']\n",
    "grouplist(list)\n",
    "print(list)\n",
    "tuples = [(1, 7), (1, 3), (3, 4, 5), (2, 2)]\n",
    "SortTuple(tuples)\n",
    "print(tuples)\n",
    "palindrome(\"Wow\")\n",
    "list=[[1, 2, 3], [4, 5]]\n",
    "list=nestedlist(list)\n",
    "print(list)\n"
   ]
  },
  {
   "cell_type": "code",
   "execution_count": null,
   "metadata": {},
   "outputs": [],
   "source": []
  }
 ],
 "metadata": {
  "kernelspec": {
   "display_name": "Python 3",
   "language": "python",
   "name": "python3"
  },
  "language_info": {
   "codemirror_mode": {
    "name": "ipython",
    "version": 3
   },
   "file_extension": ".py",
   "mimetype": "text/x-python",
   "name": "python",
   "nbconvert_exporter": "python",
   "pygments_lexer": "ipython3",
   "version": "3.13.1"
  }
 },
 "nbformat": 4,
 "nbformat_minor": 2
}
