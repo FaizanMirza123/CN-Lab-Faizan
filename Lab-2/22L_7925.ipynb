{
 "cells": [
  {
   "cell_type": "code",
   "execution_count": 1,
   "metadata": {},
   "outputs": [],
   "source": [
    "#1\n",
    "def chickens(count):\n",
    "    if(count>=10):\n",
    "        return \"Number of Chickens: Many\"\n",
    "    elif(count<10):\n",
    "        return \"Number of Chickens: \"+str(count)\n"
   ]
  },
  {
   "cell_type": "code",
   "execution_count": 2,
   "metadata": {},
   "outputs": [],
   "source": [
    "#2\n",
    "def StringStartEnd(string):\n",
    "    if(len(string)<6):\n",
    "        print(\"String size must be greater than 6 to modify\")\n",
    "    else:\n",
    "        i = 0\n",
    "        newstring = \"\"\n",
    "        for x in range(6):\n",
    "            newstring += string[i]\n",
    "            i += 1\n",
    "            if i == 3:\n",
    "                i = len(string) - 3  \n",
    "                \n",
    "        return newstring\n",
    "    \n",
    "            \n"
   ]
  },
  {
   "cell_type": "code",
   "execution_count": 3,
   "metadata": {},
   "outputs": [],
   "source": [
    "#3\n",
    "import random\n",
    "\n",
    "def replace(string):\n",
    "    value=random.randint(1,len(string)-1)\n",
    "    for x in range(value):\n",
    "            ran=random.randint(1,len(string)-1)\n",
    "            string=string.replace(string[ran],\"@\")\n",
    "    return string"
   ]
  },
  {
   "cell_type": "code",
   "execution_count": 4,
   "metadata": {},
   "outputs": [],
   "source": [
    "#4\n",
    "def stringJumble(string1,string2):\n",
    "    temp=string1\n",
    "    string1=string1.replace(string1[0],string2[0])\n",
    "    string1=string1.replace(string1[1],string2[1])\n",
    "\n",
    "    string2=string2.replace(string2[0],temp[0])\n",
    "    string2=string2.replace(string2[1],temp[1])\n",
    "\n",
    "    return string1+\", \"+string2"
   ]
  },
  {
   "cell_type": "code",
   "execution_count": 5,
   "metadata": {},
   "outputs": [],
   "source": [
    "#5\n",
    "def sameString(list):\n",
    "    count=0\n",
    "    for x in list:\n",
    "        if((x[0].lower())==(x[len(x)-1].lower())):\n",
    "            count+=1\n",
    "    return count"
   ]
  },
  {
   "cell_type": "code",
   "execution_count": 6,
   "metadata": {},
   "outputs": [],
   "source": [
    "#6\n",
    "def grouplist(list):\n",
    "\n",
    "   for i in range(len(list)):\n",
    "        for j in range(i + 1, len(list)):\n",
    "            if list[i][0] > list[j][0]:\n",
    "                list[i], list[j] = list[j], list[i]\n"
   ]
  },
  {
   "cell_type": "code",
   "execution_count": 7,
   "metadata": {},
   "outputs": [],
   "source": [
    "#7\n",
    "def SortTuple(tuples):\n",
    "    for x in range (len(tuples)):\n",
    "        for j in range(x+1, len(tuples)):\n",
    "           if(tuples[x][len(tuples[x])-1]>tuples[j][len(tuples[j])-1]):\n",
    "               tuples[x],tuples[j]=tuples[j], tuples[x]\n"
   ]
  },
  {
   "cell_type": "code",
   "execution_count": 8,
   "metadata": {},
   "outputs": [],
   "source": [
    "#8\n",
    "def palindrome(string):\n",
    "    s=string\n",
    "    new=\"\"\n",
    "    for i in s:\n",
    "        if i.isalnum():  \n",
    "            new += i\n",
    "\n",
    "    print(new)\n",
    "    size=len(new)\n",
    "    condition = True  \n",
    "\n",
    "\n",
    "    divider = size // 2\n",
    "    start2 = size - 1\n",
    "\n",
    "\n",
    "    for start1 in range(divider):\n",
    "        if new[start1].lower() != new[start2].lower():\n",
    "            print(\"not a palindrome\")\n",
    "            condition = False  \n",
    "            break\n",
    "        start2 -= 1\n",
    "\n",
    "\n",
    "    if condition:\n",
    "        print(\"a palindrome\")"
   ]
  },
  {
   "cell_type": "code",
   "execution_count": 9,
   "metadata": {},
   "outputs": [],
   "source": [
    "#9\n",
    "def nestedlist(list):\n",
    "    newList=[]\n",
    "    for x in range(len(list)):\n",
    "        for j in range(len(list[x])):\n",
    "            newList.append(list[x][j])\n",
    "    return newList"
   ]
  },
  {
   "cell_type": "code",
   "execution_count": 10,
   "metadata": {},
   "outputs": [],
   "source": [
    "#10\n",
    "def listIntersection(list1,list2):\n",
    "    newList=[]\n",
    "    for x in range(len(list1)):\n",
    "        for y in range(len(list2)):\n",
    "            if(list1[x]==list2[y]):\n",
    "                newList.append(list1[x])\n",
    "    return newList"
   ]
  },
  {
   "cell_type": "code",
   "execution_count": 11,
   "metadata": {},
   "outputs": [],
   "source": [
    "#11\n",
    "def Anagram(string1, string2):\n",
    "    temp = \"\"\n",
    "    \n",
    "    if len(string1) != len(string2):\n",
    "        print(\"Not an Anagram\")\n",
    "        return\n",
    "    \n",
    "    for x in range(len(string1)):  \n",
    "        condition = False\n",
    "        for y in range(len(string2)):  \n",
    "            if string1[x] == string2[y]:  \n",
    "                condition = True\n",
    "                break  \n",
    "        if (condition==False):\n",
    "            print(\"Not an Anagram\")\n",
    "            return\n",
    "        if (string1[x] in temp) and (x!=0)and (string1.count(string1[x])) == (string2.count(string1[x])):\n",
    "            print(\"Not an Anagram\")\n",
    "            return\n",
    "        temp += string1[x] \n",
    "    print(\"Anagram\")  \n"
   ]
  },
  {
   "cell_type": "code",
   "execution_count": 12,
   "metadata": {},
   "outputs": [],
   "source": [
    "#12\n",
    "def bnsearch(list, key):\n",
    "    size = len(list)\n",
    "    low = 0\n",
    "    high = size - 1 \n",
    "    \n",
    "    while low <= high:  \n",
    "        mid = (low + high) // 2    \n",
    "        if list[mid] == key: \n",
    "            print(\"Found at index\", mid)\n",
    "            return     \n",
    "        elif list[mid] > key:\n",
    "            high = mid - 1\n",
    "        \n",
    "        else: \n",
    "            low = mid + 1    \n",
    "    print(\"Not Found\") \n"
   ]
  },
  {
   "cell_type": "code",
   "execution_count": 13,
   "metadata": {},
   "outputs": [],
   "source": [
    "#13\n",
    "\n",
    "def msort(list):\n",
    "    if(len(list)>1):\n",
    "        mid=len(list)//2\n",
    "        left=list[:mid]\n",
    "        right=list[mid:]\n",
    "        msort(left)\n",
    "        msort(right)\n",
    "\n",
    "        i=0\n",
    "        j=0\n",
    "        k=0\n",
    "        \n",
    "        while i < len(left) and j < len(right):\n",
    "            if left[i] < right[j]:\n",
    "                list[k] = left[i]\n",
    "                i += 1\n",
    "            else:\n",
    "                list[k] = right[j]\n",
    "                j += 1\n",
    "            k += 1\n",
    "\n",
    "\n",
    "        while i < len(left):\n",
    "            list[k] = left[i]\n",
    "            i += 1\n",
    "            k += 1\n",
    "\n",
    "       \n",
    "        while j < len(right):\n",
    "            list[k] = right[j]\n",
    "            j += 1\n",
    "            k += 1\n",
    "\n",
    "        "
   ]
  },
  {
   "cell_type": "code",
   "execution_count": 14,
   "metadata": {},
   "outputs": [],
   "source": [
    "#14\n",
    "def quick_sort(arr):\n",
    "    if len(arr) <= 1:\n",
    "        return arr\n",
    "    pivot = arr[0] \n",
    "    left = [x for x in arr[1:] if x < pivot]\n",
    "    right = [x for x in arr[1:] if x >= pivot]\n",
    "    return quick_sort(left) + [pivot] + quick_sort(right)"
   ]
  },
  {
   "cell_type": "code",
   "execution_count": 15,
   "metadata": {},
   "outputs": [],
   "source": [
    "#15\n",
    "def freq_counter(list):\n",
    "    newList = []\n",
    "    for x in range(len(list)):\n",
    "        newList.append([list[x], 1])  \n",
    "        for j in range(len(list)):\n",
    "            if list[x] == list[j] and x != j:\n",
    "                newList[x][1] += 1\n",
    "    return newList\n"
   ]
  },
  {
   "cell_type": "code",
   "execution_count": 16,
   "metadata": {},
   "outputs": [],
   "source": [
    "#16\n",
    "def dist_count(list):\n",
    "    distinct=0\n",
    "    for x in range(len(list)):\n",
    "        count=1\n",
    "        for j in range (len(list)):\n",
    "            if(list[x]==list[j]and x!=j):\n",
    "                count+=1\n",
    "        if(count==1):\n",
    "            distinct+=1\n",
    "    return distinct\n",
    "        \n",
    "        "
   ]
  },
  {
   "cell_type": "code",
   "execution_count": 17,
   "metadata": {},
   "outputs": [],
   "source": [
    "#17\n",
    "def union(list1,list2):\n",
    "    newList = list1 + list2  \n",
    "\n",
    "    uniqueList = [] \n",
    "    for x in newList:\n",
    "        if x not in uniqueList:\n",
    "            uniqueList.append(x)\n",
    "\n",
    "    return uniqueList\n",
    "    \n"
   ]
  },
  {
   "cell_type": "code",
   "execution_count": 18,
   "metadata": {},
   "outputs": [],
   "source": [
    "#17b\n",
    "def intersection(list1, list2):\n",
    "    return list(set(list1) & set(list2))"
   ]
  },
  {
   "cell_type": "code",
   "execution_count": 19,
   "metadata": {},
   "outputs": [],
   "source": [
    "#18\n",
    "def unique_values(dictionary):\n",
    "    return sorted(set(dictionary.values())) \n"
   ]
  },
  {
   "cell_type": "code",
   "execution_count": null,
   "metadata": {},
   "outputs": [],
   "source": [
    "#19\n",
    "def most_common_values(d):\n",
    "    from collections import Counter\n",
    "    count = Counter(d.values())\n",
    "    \n",
    "    max_freq = max(count.values())\n",
    "    return [k for k, v in d.items() if count[v] == max_freq]"
   ]
  },
  {
   "cell_type": "code",
   "execution_count": 21,
   "metadata": {},
   "outputs": [],
   "source": [
    "#20\n",
    "def combine_dicts(d1, d2):\n",
    "    return {**d2, **d1}\n"
   ]
  },
  {
   "cell_type": "code",
   "execution_count": 22,
   "metadata": {},
   "outputs": [],
   "source": [
    "#21\n",
    "def filter_dicts(list, key):\n",
    "    return [d for d in list if key in d]"
   ]
  },
  {
   "cell_type": "code",
   "execution_count": 23,
   "metadata": {},
   "outputs": [],
   "source": [
    "#22\n",
    "def find_duplicates(list):\n",
    "    from collections import Counter\n",
    "    count = Counter(list)\n",
    "    return [k for k, v in count.items() if v > 1]\n"
   ]
  },
  {
   "cell_type": "code",
   "execution_count": 24,
   "metadata": {},
   "outputs": [
    {
     "name": "stdout",
     "output_type": "stream",
     "text": [
      "Number of Chickens: 5\n",
      "intnce\n",
      "0@@@@e\n",
      "dig, donner\n",
      "2\n",
      "['apple', 'aardvark', 'mix', 'xanadu', 'xyz']\n",
      "[(2, 2), (1, 3), (3, 4, 5), (1, 7)]\n",
      "Wow\n",
      "a palindrome\n",
      "[1, 2, 3, 4, 5]\n",
      "[3, 4, 5]\n",
      "Anagram\n",
      "Found at index 2\n",
      "[[1, 2], [1, 2], [2, 2], [2, 2], [3, 1]]\n",
      "1\n",
      "[1, 2, 3, 4, 5, 6, 7]\n",
      "[1, 2, 3]\n",
      "['b', 'c', 'e']\n",
      "{'b': 2, 'c': 4, 'a': 1}\n",
      "[{'name': 'Ali', 'age': 25}, {'age': 30}]\n",
      "[1, 2]\n"
     ]
    }
   ],
   "source": [
    "print(chickens(5))\n",
    "print(StringStartEnd(\"intelligence\"))\n",
    "print(replace(\"0oogle\"))\n",
    "print(stringJumble(\"dog\",\"dinner\"))\n",
    "print(sameString(['Wow','yay','Nah']))\n",
    "list1=['mix', 'xyz', 'apple', 'xanadu', 'aardvark']\n",
    "grouplist(list1)\n",
    "print(list1)\n",
    "tuples = [(1, 7), (1, 3), (3, 4, 5), (2, 2)]\n",
    "SortTuple(tuples)\n",
    "print(tuples)\n",
    "palindrome(\"Wow\")\n",
    "list1=[[1, 2, 3], [4, 5]]\n",
    "list1=nestedlist(list1)\n",
    "print(list1)\n",
    "\n",
    "list1=[1,2,3,4,5]\n",
    "list2=[3,4,5,6,7]\n",
    "newList=listIntersection(list1,list2)\n",
    "print(newList)\n",
    "\n",
    "Anagram(\"ali\",\"ail\")\n",
    "\n",
    "bnsearch(list1,3)\n",
    "list1=[1,1,2,2,3]\n",
    "list1=freq_counter(list1)\n",
    "print( list1)\n",
    "print(dist_count(list1))\n",
    "list1=[1,2,3,4,5]\n",
    "list2=[3,4,5,6,7]\n",
    "print(union(list1,list2))\n",
    "dict = {'a': 1, 'b': 2, 'c': 2,}\n",
    "d = {'a': 1, 'b': 2, 'c': 2, 'd': 3}\n",
    "print(unique_values(d)) \n",
    "\n",
    "d = {'a': 1, 'b': 2, 'c': 2, 'd': 3, 'e': 2}\n",
    "print(most_common_values(d)) \n",
    "\n",
    "d1 = {'a': 1, 'b': 2}\n",
    "d2 = {'b': 3, 'c': 4}\n",
    "print(combine_dicts(d1, d2))  \n",
    "\n",
    "list1 = [{'name': 'Ali', 'age': 25}, {'name': 'hamza'}, {'age': 30}]\n",
    "print(filter_dicts(list1, 'age'))  \n",
    "\n",
    "list1 = [1, 2, 3, 2, 4, 1, 5]\n",
    "print(find_duplicates(list1))\n"
   ]
  },
  {
   "cell_type": "code",
   "execution_count": null,
   "metadata": {},
   "outputs": [],
   "source": []
  },
  {
   "cell_type": "code",
   "execution_count": null,
   "metadata": {},
   "outputs": [],
   "source": []
  }
 ],
 "metadata": {
  "kernelspec": {
   "display_name": "base",
   "language": "python",
   "name": "python3"
  },
  "language_info": {
   "codemirror_mode": {
    "name": "ipython",
    "version": 3
   },
   "file_extension": ".py",
   "mimetype": "text/x-python",
   "name": "python",
   "nbconvert_exporter": "python",
   "pygments_lexer": "ipython3",
   "version": "3.12.7"
  }
 },
 "nbformat": 4,
 "nbformat_minor": 2
}
