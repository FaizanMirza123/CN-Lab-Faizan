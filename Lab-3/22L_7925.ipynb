{
 "cells": [
  {
   "cell_type": "markdown",
   "metadata": {},
   "source": [
    "#1\n",
    "\n",
    "Ping 5 Networks\n",
    "\n",
    "Mine 127.0.0.1\n",
    "Google.com\n",
    "classroom.com\n",
    "youtube.com\n",
    "reddit.com\n",
    "\n",
    "Comparison:\n",
    "\n",
    "-My on laptop as 127.0.0.1 took no time to respond to me and no loss of Packets was recorded\n",
    "-Google.com and classroom.com I assume have the same server so they took same time of 33ms to respond\n",
    "-Youtube was a bit higher of about 55ms but Reddit was way worse in responding in about 300ms\n",
    "\n",
    "\n",
    "Pinging 127.0.0.1 with 32 bytes of data:\n",
    "Reply from 127.0.0.1: bytes=32 time<1ms TTL=128\n",
    "Reply from 127.0.0.1: bytes=32 time<1ms TTL=128\n",
    "Reply from 127.0.0.1: bytes=32 time<1ms TTL=128\n",
    "Reply from 127.0.0.1: bytes=32 time<1ms TTL=128\n",
    "\n",
    "Ping statistics for 127.0.0.1:\n",
    "    Packets: Sent = 4, Received = 4, Lost = 0 (0% loss),\n",
    "Approximate round trip times in milli-seconds:\n",
    "    Minimum = 0ms, Maximum = 0ms, Average = 0ms\n",
    "\n",
    "C:\\Windows\\System32>ping www.google.com\n",
    "\n",
    "Pinging www.google.com [192.178.24.132] with 32 bytes of data:\n",
    "Reply from 192.178.24.132: bytes=32 time=32ms TTL=111\n",
    "Reply from 192.178.24.132: bytes=32 time=33ms TTL=111\n",
    "Reply from 192.178.24.132: bytes=32 time=34ms TTL=111\n",
    "Reply from 192.178.24.132: bytes=32 time=35ms TTL=111\n",
    "\n",
    "Ping statistics for 192.178.24.132:\n",
    "    Packets: Sent = 4, Received = 4, Lost = 0 (0% loss),\n",
    "Approximate round trip times in milli-seconds:\n",
    "    Minimum = 32ms, Maximum = 35ms, Average = 33ms\n",
    "\n",
    "C:\\Windows\\System32>ping classroom.google.com\n",
    "\n",
    "Pinging classroom.google.com [192.178.24.206] with 32 bytes of data:\n",
    "Reply from 192.178.24.206: bytes=32 time=34ms TTL=52\n",
    "Reply from 192.178.24.206: bytes=32 time=33ms TTL=52\n",
    "Reply from 192.178.24.206: bytes=32 time=32ms TTL=52\n",
    "Reply from 192.178.24.206: bytes=32 time=35ms TTL=52\n",
    "\n",
    "Ping statistics for 192.178.24.206:\n",
    "    Packets: Sent = 4, Received = 4, Lost = 0 (0% loss),\n",
    "Approximate round trip times in milli-seconds:\n",
    "    Minimum = 32ms, Maximum = 35ms, Average = 33ms\n",
    "\n",
    "C:\\Windows\\System32>ping www.youtube.com\n",
    "\n",
    "Pinging youtube-ui.l.google.com [172.217.169.238] with 32 bytes of data:\n",
    "Reply from 172.217.169.238: bytes=32 time=61ms TTL=111\n",
    "Reply from 172.217.169.238: bytes=32 time=51ms TTL=111\n",
    "Reply from 172.217.169.238: bytes=32 time=36ms TTL=111\n",
    "Reply from 172.217.169.238: bytes=32 time=34ms TTL=111\n",
    "\n",
    "Ping statistics for 172.217.169.238:\n",
    "    Packets: Sent = 4, Received = 4, Lost = 0 (0% loss),\n",
    "Approximate round trip times in milli-seconds:\n",
    "    Minimum = 34ms, Maximum = 61ms, Average = 45ms\n",
    "\n",
    "C:\\Windows\\System32>ping www.reddit.com\n",
    "\n",
    "Pinging reddit.map.fastly.net [199.232.57.140] with 32 bytes of data:\n",
    "Reply from 199.232.57.140: bytes=32 time=215ms TTL=46\n",
    "Reply from 199.232.57.140: bytes=32 time=228ms TTL=46\n",
    "Reply from 199.232.57.140: bytes=32 time=246ms TTL=46\n",
    "Reply from 199.232.57.140: bytes=32 time=572ms TTL=46\n",
    "\n",
    "Ping statistics for 199.232.57.140:\n",
    "    Packets: Sent = 4, Received = 4, Lost = 0 (0% loss),\n",
    "Approximate round trip times in milli-seconds:\n",
    "    Minimum = 215ms, Maximum = 572ms, Average = 315ms"
   ]
  },
  {
   "cell_type": "code",
   "execution_count": 6,
   "metadata": {},
   "outputs": [
    {
     "name": "stdout",
     "output_type": "stream",
     "text": [
      "qweqge\n"
     ]
    },
    {
     "name": "stderr",
     "output_type": "stream",
     "text": [
      "<>:3: SyntaxWarning: invalid escape sequence '\\S'\n",
      "<>:3: SyntaxWarning: invalid escape sequence '\\S'\n",
      "C:\\Users\\faiza\\AppData\\Local\\Temp\\ipykernel_16768\\1020776447.py:3: SyntaxWarning: invalid escape sequence '\\S'\n",
      "  f=open(\"D:\\Study\\Semester 6\\CN-Lab\\CN-Lab-Faizan\\Lab-3\\load.txt\")\n"
     ]
    }
   ],
   "source": [
    "import re\n",
    "\n",
    "f=open(\"D:\\Study\\Semester 6\\CN-Lab\\CN-Lab-Faizan\\Lab-3\\load.txt\")\n",
    "content=f.read()\n",
    "a=re.sub(r'[^A-Za-z]','',content)\n",
    "print(a) "
   ]
  }
 ],
 "metadata": {
  "kernelspec": {
   "display_name": "Python 3",
   "language": "python",
   "name": "python3"
  },
  "language_info": {
   "codemirror_mode": {
    "name": "ipython",
    "version": 3
   },
   "file_extension": ".py",
   "mimetype": "text/x-python",
   "name": "python",
   "nbconvert_exporter": "python",
   "pygments_lexer": "ipython3",
   "version": "undefined.undefined.undefined"
  }
 },
 "nbformat": 4,
 "nbformat_minor": 2
}
