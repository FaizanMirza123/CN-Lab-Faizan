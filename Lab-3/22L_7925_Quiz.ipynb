{
 "cells": [
  {
   "cell_type": "code",
   "execution_count": 12,
   "metadata": {},
   "outputs": [],
   "source": [
    "def rearrange_by_frequency(lst:list):\n",
    "    freq=0\n",
    "    newList=[]\n",
    "    for i in range(len(lst)):\n",
    "        freq=1\n",
    "        for j in range(len(lst)):\n",
    "            if(lst[i]==lst[j] and i!=j and lst[i]!=-1 and lst[j]!=-1):\n",
    "                freq+=1\n",
    "                lst[j]=-1\n",
    "        if(lst[i]!=-1):\n",
    "            for k in range(freq):\n",
    "             newList.append(lst[i])\n",
    "            print(\"Frequency for\",lst[i],\" :\",freq)\n",
    "    return newList"
   ]
  },
  {
   "cell_type": "code",
   "execution_count": 13,
   "metadata": {},
   "outputs": [
    {
     "name": "stdout",
     "output_type": "stream",
     "text": [
      "Frequency for 4  : 2\n",
      "Frequency for 5  : 2\n",
      "Frequency for 6  : 1\n",
      "Frequency for 3  : 1\n",
      "[4, 4, 5, 5, 6, 3]\n",
      "Frequency for 7  : 3\n",
      "Frequency for 8  : 2\n",
      "Frequency for 9  : 1\n",
      "Frequency for 6  : 1\n",
      "[7, 7, 7, 8, 8, 9, 6]\n",
      "Frequency for 1  : 1\n",
      "Frequency for 2  : 1\n",
      "Frequency for 3  : 1\n",
      "Frequency for 4  : 1\n",
      "Frequency for 5  : 1\n",
      "[1, 2, 3, 4, 5]\n",
      "Frequency for 10  : 3\n",
      "Frequency for 20  : 2\n",
      "Frequency for 30  : 1\n",
      "Frequency for 40  : 1\n",
      "[10, 10, 10, 20, 20, 30, 40]\n"
     ]
    }
   ],
   "source": [
    "input_list = [4, 5, 6, 5, 4, 3] \n",
    "newList=rearrange_by_frequency(input_list)\n",
    "print (newList)\n",
    "input_list = [7, 8, 8, 9, 7, 7, 6]\n",
    "newList=rearrange_by_frequency(input_list)\n",
    "print (newList)\n",
    "input_list = [1, 2, 3, 4, 5]  \n",
    "newList=rearrange_by_frequency(input_list)\n",
    "print (newList)\n",
    "input_list =[10, 20, 10, 30, 10, 20, 40]\n",
    "newList=rearrange_by_frequency(input_list)\n",
    "print (newList)"
   ]
  },
  {
   "cell_type": "code",
   "execution_count": null,
   "metadata": {},
   "outputs": [],
   "source": []
  }
 ],
 "metadata": {
  "kernelspec": {
   "display_name": "Python 3",
   "language": "python",
   "name": "python3"
  },
  "language_info": {
   "codemirror_mode": {
    "name": "ipython",
    "version": 3
   },
   "file_extension": ".py",
   "mimetype": "text/x-python",
   "name": "python",
   "nbconvert_exporter": "python",
   "pygments_lexer": "ipython3",
   "version": "3.13.1"
  }
 },
 "nbformat": 4,
 "nbformat_minor": 2
}
