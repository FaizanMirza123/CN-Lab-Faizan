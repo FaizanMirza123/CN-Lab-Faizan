{
  "nbformat": 4,
  "nbformat_minor": 0,
  "metadata": {
    "colab": {
      "provenance": []
    },
    "kernelspec": {
      "name": "python3",
      "display_name": "Python 3"
    },
    "language_info": {
      "name": "python"
    }
  },
  "cells": [
    {
      "cell_type": "code",
      "execution_count": 3,
      "metadata": {
        "colab": {
          "base_uri": "https://localhost:8080/"
        },
        "id": "Df6iKBrj1sTh",
        "outputId": "44f41684-5ef1-4009-d1ca-d200d845e034"
      },
      "outputs": [
        {
          "output_type": "stream",
          "name": "stdout",
          "text": [
            "['c', 'b', 'a']\n"
          ]
        }
      ],
      "source": [
        "\n",
        "# Q1\n",
        "name=['a','b','c']\n",
        "name=name[::-1]\n",
        "print (name)\n",
        "\n"
      ]
    },
    {
      "cell_type": "code",
      "source": [
        "import math\n",
        "\n",
        "# Q2\n",
        "x=8\n",
        "x=math.sqrt(x)\n",
        "x=int(x)\n",
        "print(x)\n"
      ],
      "metadata": {
        "colab": {
          "base_uri": "https://localhost:8080/"
        },
        "id": "6gTb-4JVGNB3",
        "outputId": "fc8a99c3-dea8-4ad3-aa04-5d5a79b2731b"
      },
      "execution_count": 4,
      "outputs": [
        {
          "output_type": "stream",
          "name": "stdout",
          "text": [
            "2\n"
          ]
        }
      ]
    },
    {
      "cell_type": "code",
      "source": [
        "# Q3\n",
        "s=\"A man, a plan, a canal: Panama\"\n",
        "new=\"\"\n",
        "for i in s:\n",
        "    if i.isalnum():\n",
        "        new += i\n",
        "\n",
        "print(new)\n",
        "size=len(new)\n",
        "condition = True\n",
        "\n",
        "\n",
        "divider = size // 2\n",
        "start2 = size - 1\n",
        "\n",
        "\n",
        "for start1 in range(divider):\n",
        "    if new[start1].lower() != new[start2].lower():\n",
        "        print(\"not a palindrome\")\n",
        "        condition = False\n",
        "        break\n",
        "    start2 -= 1\n",
        "\n",
        "\n",
        "if condition:\n",
        "    print(\"a palindrome\")"
      ],
      "metadata": {
        "colab": {
          "base_uri": "https://localhost:8080/"
        },
        "id": "S58UOv_sGNS7",
        "outputId": "84f4d917-3b6e-4e6b-b905-945e147bc5ee"
      },
      "execution_count": 5,
      "outputs": [
        {
          "output_type": "stream",
          "name": "stdout",
          "text": [
            "AmanaplanacanalPanama\n",
            "a palindrome\n"
          ]
        }
      ]
    }
  ]
}